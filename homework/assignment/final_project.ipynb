{
 "cells": [
  {
   "cell_type": "markdown",
   "id": "cc73cad7",
   "metadata": {
    "toc": true
   },
   "source": [
    "<h1>Table of Contents<span class=\"tocSkip\"></span></h1>\n",
    "<div class=\"toc\"><ul class=\"toc-item\"><li><span><a href=\"#Tasks\" data-toc-modified-id=\"Tasks-1\"><span class=\"toc-item-num\">1&nbsp;&nbsp;</span>Tasks</a></span></li><li><span><a href=\"#Libraries\" data-toc-modified-id=\"Libraries-2\"><span class=\"toc-item-num\">2&nbsp;&nbsp;</span>Libraries</a></span></li></ul></div>"
   ]
  },
  {
   "cell_type": "markdown",
   "id": "6e354a5c",
   "metadata": {},
   "source": [
    "# Tasks\n",
    "**Dataset**\n",
    "- streams.csv - one row per date, country, region, gender\n",
    "    - n_of_streams - total number of spotify streams for the artist, that is how many times song of that artist were listened to (the entrire dataset relates to one artist only)\n",
    "    \n",
    "**Tasks**\n",
    "1. *Report following numbers*\n",
    "    - dataset shape\n",
    "    - min, max date available\n",
    "    - number of countries, regions, genders\n",
    "    - number of missing values for country, region, gender, streams\n",
    "2. *Report following descriptive tables*\n",
    "    1. per country\n",
    "        - number of regions\n",
    "        - total number of streams\n",
    "        - average number of streams \n",
    "        - standard deviation  \n",
    "        - percentage of total number of streams\n",
    "        -  *order final result* ***by country***\n",
    "    2. per gender\n",
    "        - number of streams\n",
    "        - percentage of streams\n",
    "        - number of distinct regions\n",
    "3. *Detect outliers*\n",
    "    - Create  \"_outlier\" variable of boolean type\n",
    "    - Assign a value **True** if the row is considered an outlier, and **False** if not\n",
    "    - A row is considered an outlier if the value of n_of_streams is out of +-1.5*IQR for country, region, gender group\n",
    "4. *Generate spikes*\n",
    "    - A spike is defined as an occasion when the moving average for the number of streams(previous 3 days) proceeds the moving average for the number of streams(previous 10 days) by 10 percent\n",
    "    - Create a boolean variable which shows if the instance is a spike of not\n",
    "    - Compute number of spikes per group (country, region, gender (male, female, all))"
   ]
  },
  {
   "cell_type": "markdown",
   "id": "5ab5cd5b",
   "metadata": {},
   "source": [
    "# Libraries"
   ]
  },
  {
   "cell_type": "code",
   "execution_count": 1,
   "id": "e6b288d0",
   "metadata": {
    "ExecuteTime": {
     "end_time": "2021-12-26T16:20:51.077238Z",
     "start_time": "2021-12-26T16:20:50.567830Z"
    }
   },
   "outputs": [],
   "source": [
    "import pandas as pd"
   ]
  },
  {
   "cell_type": "code",
   "execution_count": 3,
   "id": "21652436",
   "metadata": {
    "ExecuteTime": {
     "end_time": "2021-12-26T16:22:16.581700Z",
     "start_time": "2021-12-26T16:22:16.448395Z"
    }
   },
   "outputs": [],
   "source": [
    "streams = pd.read_csv('../../data/final_project/streams.csv')"
   ]
  },
  {
   "cell_type": "code",
   "execution_count": 5,
   "id": "385d8240",
   "metadata": {
    "ExecuteTime": {
     "end_time": "2021-12-26T16:22:26.698313Z",
     "start_time": "2021-12-26T16:22:26.676243Z"
    }
   },
   "outputs": [
    {
     "data": {
      "text/html": [
       "<div>\n",
       "<style scoped>\n",
       "    .dataframe tbody tr th:only-of-type {\n",
       "        vertical-align: middle;\n",
       "    }\n",
       "\n",
       "    .dataframe tbody tr th {\n",
       "        vertical-align: top;\n",
       "    }\n",
       "\n",
       "    .dataframe thead th {\n",
       "        text-align: right;\n",
       "    }\n",
       "</style>\n",
       "<table border=\"1\" class=\"dataframe\">\n",
       "  <thead>\n",
       "    <tr style=\"text-align: right;\">\n",
       "      <th></th>\n",
       "      <th>Unnamed: 0</th>\n",
       "      <th>date</th>\n",
       "      <th>country</th>\n",
       "      <th>region</th>\n",
       "      <th>gender</th>\n",
       "      <th>n_of_streams</th>\n",
       "    </tr>\n",
       "  </thead>\n",
       "  <tbody>\n",
       "    <tr>\n",
       "      <th>0</th>\n",
       "      <td>0</td>\n",
       "      <td>2021-10-19</td>\n",
       "      <td>US</td>\n",
       "      <td>539</td>\n",
       "      <td>NaN</td>\n",
       "      <td>23</td>\n",
       "    </tr>\n",
       "    <tr>\n",
       "      <th>1</th>\n",
       "      <td>1</td>\n",
       "      <td>2021-10-20</td>\n",
       "      <td>SE</td>\n",
       "      <td>SE-AB</td>\n",
       "      <td>male</td>\n",
       "      <td>110</td>\n",
       "    </tr>\n",
       "    <tr>\n",
       "      <th>2</th>\n",
       "      <td>2</td>\n",
       "      <td>2021-10-26</td>\n",
       "      <td>FR</td>\n",
       "      <td>FR-67</td>\n",
       "      <td>male</td>\n",
       "      <td>3</td>\n",
       "    </tr>\n",
       "    <tr>\n",
       "      <th>3</th>\n",
       "      <td>3</td>\n",
       "      <td>2021-11-28</td>\n",
       "      <td>EC</td>\n",
       "      <td>EC-F</td>\n",
       "      <td>female</td>\n",
       "      <td>3</td>\n",
       "    </tr>\n",
       "    <tr>\n",
       "      <th>4</th>\n",
       "      <td>4</td>\n",
       "      <td>2021-10-17</td>\n",
       "      <td>GR</td>\n",
       "      <td>GR-54</td>\n",
       "      <td>NaN</td>\n",
       "      <td>1</td>\n",
       "    </tr>\n",
       "  </tbody>\n",
       "</table>\n",
       "</div>"
      ],
      "text/plain": [
       "   Unnamed: 0        date country region  gender  n_of_streams\n",
       "0           0  2021-10-19      US    539     NaN            23\n",
       "1           1  2021-10-20      SE  SE-AB    male           110\n",
       "2           2  2021-10-26      FR  FR-67    male             3\n",
       "3           3  2021-11-28      EC   EC-F  female             3\n",
       "4           4  2021-10-17      GR  GR-54     NaN             1"
      ]
     },
     "execution_count": 5,
     "metadata": {},
     "output_type": "execute_result"
    }
   ],
   "source": [
    "streams.head()"
   ]
  }
 ],
 "metadata": {
  "kernelspec": {
   "display_name": "Python 3 (ipykernel)",
   "language": "python",
   "name": "python3"
  },
  "language_info": {
   "codemirror_mode": {
    "name": "ipython",
    "version": 3
   },
   "file_extension": ".py",
   "mimetype": "text/x-python",
   "name": "python",
   "nbconvert_exporter": "python",
   "pygments_lexer": "ipython3",
   "version": "3.9.7"
  },
  "toc": {
   "base_numbering": 1,
   "nav_menu": {},
   "number_sections": true,
   "sideBar": true,
   "skip_h1_title": false,
   "title_cell": "Table of Contents",
   "title_sidebar": "Contents",
   "toc_cell": true,
   "toc_position": {},
   "toc_section_display": true,
   "toc_window_display": false
  }
 },
 "nbformat": 4,
 "nbformat_minor": 5
}
