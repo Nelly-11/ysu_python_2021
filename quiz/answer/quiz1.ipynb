{
 "cells": [
  {
   "cell_type": "markdown",
   "id": "general-strip",
   "metadata": {
    "toc": true
   },
   "source": [
    "<h1>Table of Contents<span class=\"tocSkip\"></span></h1>\n",
    "<div class=\"toc\"><ul class=\"toc-item\"><li><span><a href=\"#Quiz-1:-Python-basic-concepts\" data-toc-modified-id=\"Quiz-1:-Python-basic-concepts-1\"><span class=\"toc-item-num\">1&nbsp;&nbsp;</span>Quiz 1: Python basic concepts</a></span><ul class=\"toc-item\"><li><span><a href=\"#Question-1\" data-toc-modified-id=\"Question-1-1.1\"><span class=\"toc-item-num\">1.1&nbsp;&nbsp;</span>Question 1</a></span></li><li><span><a href=\"#Question-2\" data-toc-modified-id=\"Question-2-1.2\"><span class=\"toc-item-num\">1.2&nbsp;&nbsp;</span>Question 2</a></span></li><li><span><a href=\"#Question-3\" data-toc-modified-id=\"Question-3-1.3\"><span class=\"toc-item-num\">1.3&nbsp;&nbsp;</span>Question 3</a></span></li><li><span><a href=\"#Question-4\" data-toc-modified-id=\"Question-4-1.4\"><span class=\"toc-item-num\">1.4&nbsp;&nbsp;</span>Question 4</a></span></li><li><span><a href=\"#Question-5\" data-toc-modified-id=\"Question-5-1.5\"><span class=\"toc-item-num\">1.5&nbsp;&nbsp;</span>Question 5</a></span></li><li><span><a href=\"#Question-6\" data-toc-modified-id=\"Question-6-1.6\"><span class=\"toc-item-num\">1.6&nbsp;&nbsp;</span>Question 6</a></span></li><li><span><a href=\"#Question-7\" data-toc-modified-id=\"Question-7-1.7\"><span class=\"toc-item-num\">1.7&nbsp;&nbsp;</span>Question 7</a></span></li><li><span><a href=\"#Question-8\" data-toc-modified-id=\"Question-8-1.8\"><span class=\"toc-item-num\">1.8&nbsp;&nbsp;</span>Question 8</a></span></li><li><span><a href=\"#Question-9\" data-toc-modified-id=\"Question-9-1.9\"><span class=\"toc-item-num\">1.9&nbsp;&nbsp;</span>Question 9</a></span></li><li><span><a href=\"#Question-10\" data-toc-modified-id=\"Question-10-1.10\"><span class=\"toc-item-num\">1.10&nbsp;&nbsp;</span>Question 10</a></span></li><li><span><a href=\"#Question-11\" data-toc-modified-id=\"Question-11-1.11\"><span class=\"toc-item-num\">1.11&nbsp;&nbsp;</span>Question 11</a></span></li><li><span><a href=\"#Question-12\" data-toc-modified-id=\"Question-12-1.12\"><span class=\"toc-item-num\">1.12&nbsp;&nbsp;</span>Question 12</a></span></li></ul></li></ul></div>"
   ]
  },
  {
   "cell_type": "markdown",
   "id": "moved-motivation",
   "metadata": {},
   "source": [
    "# Quiz 1: Python basic concepts\n",
    "Name:"
   ]
  },
  {
   "cell_type": "markdown",
   "id": "continent-proportion",
   "metadata": {
    "heading_collapsed": true
   },
   "source": [
    "## Question 1\n",
    "Sort the operators from the highest precedence to the lowest precedence\n",
    "1. function calls\n",
    "2. assignments\n",
    "3. logical-or\n",
    "4. addition\n",
    "\n",
    "\n",
    "Answer: 1 4 3 2"
   ]
  },
  {
   "cell_type": "markdown",
   "id": "female-guide",
   "metadata": {},
   "source": [
    "## Question 2\n",
    "What will the code print?\n",
    "```python\n",
    "if 1 or None and not True:\n",
    "    print(\"Yes\")\n",
    "else:\n",
    "    print(\"No\")\n",
    "```\n",
    "\n",
    "Answer: Yes (not -> and -> or)"
   ]
  },
  {
   "cell_type": "markdown",
   "id": "hungry-partnership",
   "metadata": {},
   "source": [
    "## Question 3\n",
    "Computer languages designed to be used and understood by humans are\n",
    "1. natural languages\n",
    "2. high-level computer languages\n",
    "3. machine languages\n",
    "4. fetch-execute languages\n",
    "\n",
    "Answer: 2"
   ]
  },
  {
   "cell_type": "markdown",
   "id": "interim-catalyst",
   "metadata": {},
   "source": [
    "## Question 4\n",
    "Sort the software development stages into right order\n",
    "1. Implement the design\n",
    "2. Maintain the program\n",
    "3. Test/Debug the program\n",
    "4. Analyze the problem\n",
    "5. Determine specifications\n",
    "6. Create the design\n",
    "\n",
    "Answer: 4 5 6 1 3 2"
   ]
  },
  {
   "cell_type": "markdown",
   "id": "eastern-movement",
   "metadata": {},
   "source": [
    "## Question 5\n",
    "Which of the following are invalid python identifiers\n",
    "1. NameSpace\n",
    "2. varName__\n",
    "3. __id023_1\n",
    "4. 01testfunction\n",
    "5. integer!\n",
    "\n",
    "Answer: 4 5"
   ]
  },
  {
   "cell_type": "markdown",
   "id": "selective-preliminary",
   "metadata": {},
   "source": [
    "## Question 6\n",
    "Select python keywords\n",
    "\n",
    "1. do\n",
    "2. while\n",
    "3. elif\n",
    "4. while\n",
    "5. foreach\n",
    "6. nonlocal\n",
    "\n",
    "Answer: 2 3 4 6"
   ]
  },
  {
   "cell_type": "markdown",
   "id": "coordinate-setup",
   "metadata": {},
   "source": [
    "## Question 7\n",
    "The most appropriate data type for storing the value of pi is\n",
    "1. int \n",
    "2. float \n",
    "3. irrational \n",
    "4. string\n",
    "\n",
    "Answer: float"
   ]
  },
  {
   "cell_type": "markdown",
   "id": "painful-antibody",
   "metadata": {},
   "source": [
    "## Question 8\n",
    "Which of the following is not a Python type-conversion function?\n",
    "1. float \n",
    "2. round \n",
    "3. int \n",
    "4. abs\n",
    "\n",
    "Answer: 4"
   ]
  },
  {
   "cell_type": "markdown",
   "id": "magnetic-third",
   "metadata": {},
   "source": [
    "## Question 9\n",
    "Which of the following is the purpose of ```break``` statement\n",
    "1. stop the current iteration\n",
    "2. immediately terminate the entire loop\n",
    "3. print the output value\n",
    "\n",
    "Answer: 2"
   ]
  },
  {
   "cell_type": "markdown",
   "id": "forbidden-pointer",
   "metadata": {},
   "source": [
    "## Question 10\n",
    "Underline the mutable data type in python\\\n",
    "```bool  int  float  list  tuple  str  set  frozenset  dict```\n",
    "\n",
    "Answer: list set dict"
   ]
  },
  {
   "cell_type": "markdown",
   "id": "rolled-occupation",
   "metadata": {},
   "source": [
    "## Question 11\n",
    "Which data structure is used to implement set class in python\n",
    "1. b-tree\n",
    "2. hash table\n",
    "3. stack\n",
    "4. linked list\n",
    "\n",
    "Answer: hash table"
   ]
  },
  {
   "cell_type": "markdown",
   "id": "russian-interview",
   "metadata": {},
   "source": [
    "## Question 12\n",
    "What is *a* equal to?\n",
    "```python\n",
    "a = {\"name\": \"A\", \"phone\": \"B\"}.get(\"age\", False)\n",
    "```\n",
    "\n",
    "Answer: False"
   ]
  }
 ],
 "metadata": {
  "kernelspec": {
   "display_name": "Python 3",
   "language": "python",
   "name": "python3"
  },
  "language_info": {
   "codemirror_mode": {
    "name": "ipython",
    "version": 3
   },
   "file_extension": ".py",
   "mimetype": "text/x-python",
   "name": "python",
   "nbconvert_exporter": "python",
   "pygments_lexer": "ipython3",
   "version": "3.8.5"
  },
  "toc": {
   "base_numbering": 1,
   "nav_menu": {},
   "number_sections": true,
   "sideBar": true,
   "skip_h1_title": false,
   "title_cell": "Table of Contents",
   "title_sidebar": "Contents",
   "toc_cell": true,
   "toc_position": {},
   "toc_section_display": true,
   "toc_window_display": false
  }
 },
 "nbformat": 4,
 "nbformat_minor": 5
}
