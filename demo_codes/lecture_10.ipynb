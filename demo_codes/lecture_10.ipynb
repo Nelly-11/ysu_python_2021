{
 "cells": [
  {
   "cell_type": "markdown",
   "metadata": {
    "toc": true
   },
   "source": [
    "<h1>Table of Contents<span class=\"tocSkip\"></span></h1>\n",
    "<div class=\"toc\"><ul class=\"toc-item\"><li><span><a href=\"#Introduction-to-Jupyter-Notebook\" data-toc-modified-id=\"Introduction-to-Jupyter-Notebook-1\"><span class=\"toc-item-num\">1&nbsp;&nbsp;</span>Introduction to Jupyter Notebook</a></span></li><li><span><a href=\"#Python-and-Data-Science\" data-toc-modified-id=\"Python-and-Data-Science-2\"><span class=\"toc-item-num\">2&nbsp;&nbsp;</span>Python and Data Science</a></span></li><li><span><a href=\"#Numpy\" data-toc-modified-id=\"Numpy-3\"><span class=\"toc-item-num\">3&nbsp;&nbsp;</span>Numpy</a></span></li></ul></div>"
   ]
  },
  {
   "cell_type": "markdown",
   "metadata": {
    "collapsed": true
   },
   "source": [
    "# Introduction to Jupyter Notebook\n",
    "Types of cells\n",
    " - Markdown\n",
    " - Code"
   ]
  },
  {
   "cell_type": "markdown",
   "metadata": {},
   "source": [
    "This is a markdown cell"
   ]
  },
  {
   "cell_type": "code",
   "execution_count": 1,
   "metadata": {
    "ExecuteTime": {
     "end_time": "2021-11-11T19:08:49.718344Z",
     "start_time": "2021-11-11T19:08:49.696323Z"
    },
    "scrolled": true
   },
   "outputs": [
    {
     "name": "stdout",
     "output_type": "stream",
     "text": [
      "This is a code cell\n"
     ]
    }
   ],
   "source": [
    "print(\"This is a code cell\")"
   ]
  },
  {
   "cell_type": "markdown",
   "metadata": {},
   "source": [
    "- client-server architecture\n",
    "- use cases (pros and cons)\n",
    "- view mode/edit mode - enter/esc - cells\n",
    "- what is kernel?\n",
    "- shortcuts (alt+enter, ctrl+enter, shift+enter, y, m)\n",
    "- nbextensions\n",
    "- jupyterlab\n",
    "- other notebooks (zeppelin, databricks, sagemaker)\n",
    "- use ! to run cli commands\n",
    "- % and %% for magic commands (later)"
   ]
  },
  {
   "cell_type": "markdown",
   "metadata": {},
   "source": [
    "# Python and Data Science\n",
    "- **matrix operations**\n",
    "    - numpy\n",
    "- **data transformation**\n",
    "    - pandas\n",
    "- **visualization**\n",
    "    - matplotlib\n",
    "        - seaborn\n",
    "    - plotly\n",
    "        - dash (using flask)\n",
    "- **modeling**\n",
    "    - statsmodels api"
   ]
  },
  {
   "cell_type": "markdown",
   "metadata": {},
   "source": [
    "# Numpy\n",
    "https://numpy.org/doc/ (user guide and reference)\\\n",
    "https://numpy.org/doc/stable/user/index.html"
   ]
  },
  {
   "cell_type": "code",
   "execution_count": null,
   "metadata": {},
   "outputs": [],
   "source": []
  }
 ],
 "metadata": {
  "kernelspec": {
   "display_name": "Python 3 (ipykernel)",
   "language": "python",
   "name": "python3"
  },
  "language_info": {
   "codemirror_mode": {
    "name": "ipython",
    "version": 3
   },
   "file_extension": ".py",
   "mimetype": "text/x-python",
   "name": "python",
   "nbconvert_exporter": "python",
   "pygments_lexer": "ipython3",
   "version": "3.9.7"
  },
  "toc": {
   "base_numbering": 1,
   "nav_menu": {},
   "number_sections": true,
   "sideBar": true,
   "skip_h1_title": false,
   "title_cell": "Table of Contents",
   "title_sidebar": "Contents",
   "toc_cell": true,
   "toc_position": {},
   "toc_section_display": true,
   "toc_window_display": false
  }
 },
 "nbformat": 4,
 "nbformat_minor": 1
}
